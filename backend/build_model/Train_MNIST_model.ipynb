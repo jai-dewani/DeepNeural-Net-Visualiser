{
  "nbformat": 4,
  "nbformat_minor": 0,
  "metadata": {
    "kernelspec": {
      "display_name": "Python 3",
      "language": "python",
      "name": "python3"
    },
    "language_info": {
      "codemirror_mode": {
        "name": "ipython",
        "version": 3
      },
      "file_extension": ".py",
      "mimetype": "text/x-python",
      "name": "python",
      "nbconvert_exporter": "python",
      "pygments_lexer": "ipython3",
      "version": "3.7.6"
    },
    "colab": {
      "name": "Visualize-Neural-Network.ipynb",
      "provenance": [],
      "toc_visible": true
    }
  },
  "cells": [
    {
      "cell_type": "code",
      "metadata": {
        "id": "QBU7_NL9GKcu",
        "colab_type": "code",
        "colab": {}
      },
      "source": [
        "%matplotlib inline\n",
        "\n",
        "import tensorflow as tf \n",
        "import numpy as np\n",
        "import matplotlib.pyplot as plt"
      ],
      "execution_count": null,
      "outputs": []
    },
    {
      "cell_type": "markdown",
      "metadata": {
        "id": "XN0nlku7GKdD",
        "colab_type": "text"
      },
      "source": [
        "## Importing Data"
      ]
    },
    {
      "cell_type": "code",
      "metadata": {
        "id": "nONOJnGTGKdF",
        "colab_type": "code",
        "colab": {
          "base_uri": "https://localhost:8080/",
          "height": 51
        },
        "outputId": "0b46bced-43d5-4737-82b6-3e5a92e4620f"
      },
      "source": [
        "(x_train, y_train),(x_test, y_test) = tf.keras.datasets.mnist.load_data()"
      ],
      "execution_count": null,
      "outputs": [
        {
          "output_type": "stream",
          "text": [
            "Downloading data from https://storage.googleapis.com/tensorflow/tf-keras-datasets/mnist.npz\n",
            "11493376/11490434 [==============================] - 0s 0us/step\n"
          ],
          "name": "stdout"
        }
      ]
    },
    {
      "cell_type": "markdown",
      "metadata": {
        "id": "Rlw89J0hGKdT",
        "colab_type": "text"
      },
      "source": [
        "## Plotting Data"
      ]
    },
    {
      "cell_type": "code",
      "metadata": {
        "id": "kMHExqHfGKdU",
        "colab_type": "code",
        "colab": {
          "base_uri": "https://localhost:8080/",
          "height": 589
        },
        "outputId": "6638c29c-6cca-4f5f-d06b-8260e3bbc4ba"
      },
      "source": [
        "plt.figure(figsize=(10,10))\n",
        "\n",
        "for i in range(0,16):\n",
        "    plt.subplot(4,4,i+1)\n",
        "    plt.imshow(x_train[i], cmap='binary')\n",
        "    plt.xlabel(str(y_train[i]))\n",
        "    plt.xticks([])\n",
        "    plt.yticks([])\n",
        "plt.show()"
      ],
      "execution_count": null,
      "outputs": [
        {
          "output_type": "display_data",
          "data": {
            "image/png": "[encoded data removed]",
            "text/plain": [
              "<Figure size 720x720 with 16 Axes>"
            ]
          },
          "metadata": {
            "tags": []
          }
        }
      ]
    },
    {
      "cell_type": "markdown",
      "metadata": {
        "id": "_z2G7jSOGKdk",
        "colab_type": "text"
      },
      "source": [
        "## Normalize Data"
      ]
    },
    {
      "cell_type": "code",
      "metadata": {
        "id": "kx1R7urXGKdm",
        "colab_type": "code",
        "colab": {}
      },
      "source": [
        "x_train = np.reshape(x_train, (60000, 28*28))\n",
        "x_test = np.reshape(x_test, (10000, 28*28))\n",
        "\n",
        "x_train = x_train/255\n",
        "x_test = x_test/255"
      ],
      "execution_count": null,
      "outputs": []
    },
    {
      "cell_type": "markdown",
      "metadata": {
        "id": "Bf5AKtBWGKdz",
        "colab_type": "text"
      },
      "source": [
        "## Creating a Neural Network Model"
      ]
    },
    {
      "cell_type": "code",
      "metadata": {
        "id": "4uehG9WNGKd1",
        "colab_type": "code",
        "colab": {}
      },
      "source": [
        "model = tf.keras.models.Sequential([\n",
        "    tf.keras.layers.Dense(32, activation='sigmoid', input_shape=(784,)),\n",
        "    tf.keras.layers.Dense(32, activation='sigmoid'),\n",
        "    tf.keras.layers.Dense(10, activation='softmax')\n",
        "])\n",
        "\n",
        "model.compile(\n",
        "    loss='sparse_categorical_crossentropy',\n",
        "    optimizer='adam',\n",
        "    metrics=['accuracy']\n",
        ")"
      ],
      "execution_count": null,
      "outputs": []
    },
    {
      "cell_type": "markdown",
      "metadata": {
        "id": "ui6q_5T2GKeA",
        "colab_type": "text"
      },
      "source": [
        "## Train the Model"
      ]
    },
    {
      "cell_type": "code",
      "metadata": {
        "id": "aTzmLR-CGKeB",
        "colab_type": "code",
        "colab": {
          "base_uri": "https://localhost:8080/",
          "height": 697
        },
        "outputId": "5c2471c5-6b00-4129-a4d5-11e88dca6bc0"
      },
      "source": [
        "_ = model.fit(\n",
        "    x_train, y_train,\n",
        "    validation_data=(x_test,y_test),\n",
        "    epochs=20,\n",
        "    batch_size=2048,\n",
        "    verbose=2\n",
        ")"
      ],
      "execution_count": null,
      "outputs": [
        {
          "output_type": "stream",
          "text": [
            "Epoch 1/20\n",
            "30/30 - 0s - loss: 0.3541 - accuracy: 0.9158 - val_loss: 0.3410 - val_accuracy: 0.9177\n",
            "Epoch 2/20\n",
            "30/30 - 0s - loss: 0.3402 - accuracy: 0.9178 - val_loss: 0.3295 - val_accuracy: 0.9195\n",
            "Epoch 3/20\n",
            "30/30 - 0s - loss: 0.3277 - accuracy: 0.9199 - val_loss: 0.3186 - val_accuracy: 0.9211\n",
            "Epoch 4/20\n",
            "30/30 - 0s - loss: 0.3165 - accuracy: 0.9215 - val_loss: 0.3090 - val_accuracy: 0.9225\n",
            "Epoch 5/20\n",
            "30/30 - 0s - loss: 0.3063 - accuracy: 0.9234 - val_loss: 0.2995 - val_accuracy: 0.9230\n",
            "Epoch 6/20\n",
            "30/30 - 0s - loss: 0.2969 - accuracy: 0.9247 - val_loss: 0.2908 - val_accuracy: 0.9244\n",
            "Epoch 7/20\n",
            "30/30 - 0s - loss: 0.2884 - accuracy: 0.9267 - val_loss: 0.2834 - val_accuracy: 0.9267\n",
            "Epoch 8/20\n",
            "30/30 - 0s - loss: 0.2802 - accuracy: 0.9282 - val_loss: 0.2762 - val_accuracy: 0.9274\n",
            "Epoch 9/20\n",
            "30/30 - 0s - loss: 0.2729 - accuracy: 0.9299 - val_loss: 0.2697 - val_accuracy: 0.9285\n",
            "Epoch 10/20\n",
            "30/30 - 0s - loss: 0.2659 - accuracy: 0.9314 - val_loss: 0.2638 - val_accuracy: 0.9297\n",
            "Epoch 11/20\n",
            "30/30 - 0s - loss: 0.2592 - accuracy: 0.9328 - val_loss: 0.2581 - val_accuracy: 0.9312\n",
            "Epoch 12/20\n",
            "30/30 - 0s - loss: 0.2531 - accuracy: 0.9342 - val_loss: 0.2529 - val_accuracy: 0.9311\n",
            "Epoch 13/20\n",
            "30/30 - 0s - loss: 0.2472 - accuracy: 0.9355 - val_loss: 0.2474 - val_accuracy: 0.9329\n",
            "Epoch 14/20\n",
            "30/30 - 0s - loss: 0.2417 - accuracy: 0.9366 - val_loss: 0.2431 - val_accuracy: 0.9336\n",
            "Epoch 15/20\n",
            "30/30 - 0s - loss: 0.2363 - accuracy: 0.9384 - val_loss: 0.2382 - val_accuracy: 0.9344\n",
            "Epoch 16/20\n",
            "30/30 - 0s - loss: 0.2313 - accuracy: 0.9389 - val_loss: 0.2339 - val_accuracy: 0.9346\n",
            "Epoch 17/20\n",
            "30/30 - 0s - loss: 0.2264 - accuracy: 0.9407 - val_loss: 0.2299 - val_accuracy: 0.9368\n",
            "Epoch 18/20\n",
            "30/30 - 0s - loss: 0.2218 - accuracy: 0.9416 - val_loss: 0.2256 - val_accuracy: 0.9376\n",
            "Epoch 19/20\n",
            "30/30 - 0s - loss: 0.2173 - accuracy: 0.9426 - val_loss: 0.2218 - val_accuracy: 0.9393\n",
            "Epoch 20/20\n",
            "30/30 - 0s - loss: 0.2132 - accuracy: 0.9433 - val_loss: 0.2183 - val_accuracy: 0.9399\n"
          ],
          "name": "stdout"
        }
      ]
    },
    {
      "cell_type": "markdown",
      "metadata": {
        "id": "BB-sBHRsGKeP",
        "colab_type": "text"
      },
      "source": [
        "## Save the Model"
      ]
    },
    {
      "cell_type": "code",
      "metadata": {
        "id": "lPGbGZuqGKeR",
        "colab_type": "code",
        "colab": {}
      },
      "source": [
        "model.save('model.h5')"
      ],
      "execution_count": null,
      "outputs": []
    },
    {
      "cell_type": "code",
      "metadata": {
        "id": "JoijwPdIGW7n",
        "colab_type": "code",
        "colab": {}
      },
      "source": [
        ""
      ],
      "execution_count": null,
      "outputs": []
    }
  ]
}